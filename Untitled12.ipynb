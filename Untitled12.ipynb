{
 "cells": [
  {
   "cell_type": "code",
   "execution_count": 9,
   "id": "a9261b71-baa8-43bd-8c57-5f94df33811b",
   "metadata": {
    "tags": []
   },
   "outputs": [],
   "source": [
    "def loan_emi(amount):\n",
    "    emi = amount/12\n",
    "    print('The EMI is ${}'.format(emi))"
   ]
  },
  {
   "cell_type": "code",
   "execution_count": 23,
   "id": "8959f7de-4c7f-4bc4-9407-f612c0fc5a81",
   "metadata": {
    "tags": []
   },
   "outputs": [
    {
     "name": "stdout",
     "output_type": "stream",
     "text": [
      "The EMI is $105000.0\n",
      "None\n"
     ]
    }
   ],
   "source": [
    "print(loan_emi(1.26e6))"
   ]
  },
  {
   "cell_type": "code",
   "execution_count": null,
   "id": "5d6a0604-185b-4c69-8631-72c38c09c971",
   "metadata": {},
   "outputs": [],
   "source": []
  },
  {
   "cell_type": "code",
   "execution_count": 26,
   "id": "fae7da18-4954-4be3-9bf0-6eb375837d09",
   "metadata": {
    "tags": []
   },
   "outputs": [],
   "source": [
    "def loan_emi (amount,duration):\n",
    "    emi = amount/duration\n",
    "    print(\"The EMI is ${}\".format(emi))"
   ]
  },
  {
   "cell_type": "code",
   "execution_count": 27,
   "id": "149a1c49-a80e-40ed-a8da-5e1b25b151a8",
   "metadata": {
    "tags": []
   },
   "outputs": [
    {
     "name": "stdout",
     "output_type": "stream",
     "text": [
      "The EMI is $10500.0\n",
      "None\n"
     ]
    }
   ],
   "source": [
    "print(loan_emi(1.26e6,10*12))"
   ]
  },
  {
   "cell_type": "code",
   "execution_count": 28,
   "id": "8a127452-cc9f-4b09-879b-81677ba87b36",
   "metadata": {
    "tags": []
   },
   "outputs": [],
   "source": [
    "def loan_emi(amount,duration):\n",
    "    emi = amount/duration\n",
    "    return emi"
   ]
  },
  {
   "cell_type": "code",
   "execution_count": 32,
   "id": "41bab7c9-4a08-490b-b802-ca041b41bcdd",
   "metadata": {
    "tags": []
   },
   "outputs": [
    {
     "data": {
      "text/plain": [
       "13125.0"
      ]
     },
     "execution_count": 32,
     "metadata": {},
     "output_type": "execute_result"
    }
   ],
   "source": [
    "emi1 = loan_emi(1.26e6,8*12)\n",
    "emi1"
   ]
  },
  {
   "cell_type": "code",
   "execution_count": 30,
   "id": "cdb27a30-8b73-49ad-927e-dbfbf5c994d7",
   "metadata": {
    "tags": []
   },
   "outputs": [],
   "source": [
    "emi2= loan_emi(1.26e6,10*12)"
   ]
  },
  {
   "cell_type": "code",
   "execution_count": 33,
   "id": "682c070b-0ed1-4584-ac89-9df1b1515e30",
   "metadata": {
    "tags": []
   },
   "outputs": [
    {
     "data": {
      "text/plain": [
       "2625.0"
      ]
     },
     "execution_count": 33,
     "metadata": {},
     "output_type": "execute_result"
    }
   ],
   "source": [
    "emi1-emi2"
   ]
  },
  {
   "cell_type": "code",
   "execution_count": 34,
   "id": "5507a23e-34ce-4725-9751-aeb2bc77c079",
   "metadata": {
    "tags": []
   },
   "outputs": [],
   "source": [
    "def loan_emi(amount,duration,down_payment=0):\n",
    "    loan_amount = amount-down_payment\n",
    "    emi = loan_amount/duration\n",
    "    return emi"
   ]
  },
  {
   "cell_type": "code",
   "execution_count": 36,
   "id": "57f4293e-a186-4695-bdda-f0324f1c42d6",
   "metadata": {
    "tags": []
   },
   "outputs": [
    {
     "data": {
      "text/plain": [
       "10000.0"
      ]
     },
     "execution_count": 36,
     "metadata": {},
     "output_type": "execute_result"
    }
   ],
   "source": [
    "emi1 = loan_emi(1.26e6,8*12,3e5)\n",
    "emi1"
   ]
  },
  {
   "cell_type": "code",
   "execution_count": 37,
   "id": "c1f1bb40-b2cf-47b5-b07a-9432299532ea",
   "metadata": {
    "tags": []
   },
   "outputs": [
    {
     "data": {
      "text/plain": [
       "1050000.0"
      ]
     },
     "execution_count": 37,
     "metadata": {},
     "output_type": "execute_result"
    }
   ],
   "source": [
    "emi2 = loan_emi(126e6,10*12)\n",
    "emi2"
   ]
  },
  {
   "cell_type": "code",
   "execution_count": 42,
   "id": "832f7d0a-6ac6-478b-85c4-aff4ffbaa768",
   "metadata": {
    "tags": []
   },
   "outputs": [],
   "source": [
    "def loan_emi(amount,duration,rate,down_payment=0):\n",
    "    loan_amount=amount-down_payment\n",
    "    emi = loan_amount*rate*(1+rate)**duration/(((1+rate)**duration)-1)\n",
    "    return emi"
   ]
  },
  {
   "cell_type": "code",
   "execution_count": 43,
   "id": "b799c102-0bee-404c-be19-146393913b1c",
   "metadata": {
    "tags": []
   },
   "outputs": [
    {
     "name": "stdout",
     "output_type": "stream",
     "text": [
      "14567.19753389219\n"
     ]
    }
   ],
   "source": [
    "print(loan_emi(1.26e6,8*12,0.1/12,3e5))"
   ]
  },
  {
   "cell_type": "code",
   "execution_count": 44,
   "id": "b53d12ae-b792-4edd-928f-b76ad820f89d",
   "metadata": {
    "tags": []
   },
   "outputs": [
    {
     "name": "stdout",
     "output_type": "stream",
     "text": [
      "14567.19753389219\n"
     ]
    }
   ],
   "source": [
    "print(loan_emi(amount=1.26e6,duration = 8*12,rate=0.1/12,down_payment=3e5))"
   ]
  },
  {
   "cell_type": "code",
   "execution_count": 45,
   "id": "0466384e-83c2-4e28-a783-098d76b39474",
   "metadata": {
    "tags": []
   },
   "outputs": [],
   "source": [
    "import math"
   ]
  },
  {
   "cell_type": "code",
   "execution_count": 46,
   "id": "59c6080e-5fa1-4b08-b4fc-01518e566a99",
   "metadata": {
    "tags": []
   },
   "outputs": [
    {
     "name": "stdout",
     "output_type": "stream",
     "text": [
      "Help on built-in function ceil in module math:\n",
      "\n",
      "ceil(x, /)\n",
      "    Return the ceiling of x as an Integral.\n",
      "    \n",
      "    This is the smallest integer >= x.\n",
      "\n"
     ]
    }
   ],
   "source": [
    "help(math.ceil)"
   ]
  },
  {
   "cell_type": "code",
   "execution_count": 49,
   "id": "d9ddb597-5a47-43af-96a6-b2fdafa223b3",
   "metadata": {
    "tags": []
   },
   "outputs": [
    {
     "data": {
      "text/plain": [
       "2"
      ]
     },
     "execution_count": 49,
     "metadata": {},
     "output_type": "execute_result"
    }
   ],
   "source": [
    "math.ceil(1.2)"
   ]
  },
  {
   "cell_type": "code",
   "execution_count": 50,
   "id": "d474539f-d111-4270-8182-15ddf8d51d33",
   "metadata": {
    "tags": []
   },
   "outputs": [],
   "source": [
    "def loan_emi(amount,duration,rate,down_payment=0):\n",
    "    loan_amount=amount-down_payment\n",
    "    emi = loan_amount*rate*(1+rate)**duration/(((1+rate)**duration)-1)\n",
    "    emi = math.ceil(emi)\n",
    "    return emi"
   ]
  },
  {
   "cell_type": "code",
   "execution_count": 51,
   "id": "1b2ed0a3-2d19-41f6-b7fa-da85a4133b84",
   "metadata": {
    "tags": []
   },
   "outputs": [
    {
     "name": "stdout",
     "output_type": "stream",
     "text": [
      "14568\n"
     ]
    }
   ],
   "source": [
    "print(loan_emi(1.26e6,8*12,0.1/12,3e5))"
   ]
  },
  {
   "cell_type": "code",
   "execution_count": null,
   "id": "588ea575-ac82-444c-927a-01d552bafdcd",
   "metadata": {},
   "outputs": [],
   "source": []
  }
 ],
 "metadata": {
  "kernelspec": {
   "display_name": "Python 3 (ipykernel)",
   "language": "python",
   "name": "python3"
  },
  "language_info": {
   "codemirror_mode": {
    "name": "ipython",
    "version": 3
   },
   "file_extension": ".py",
   "mimetype": "text/x-python",
   "name": "python",
   "nbconvert_exporter": "python",
   "pygments_lexer": "ipython3",
   "version": "3.8.16"
  }
 },
 "nbformat": 4,
 "nbformat_minor": 5
}
