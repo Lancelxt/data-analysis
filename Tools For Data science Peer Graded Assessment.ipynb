{
 "cells": [
  {
   "cell_type": "markdown",
   "id": "302ff735-9321-4b3b-94e6-9b55150591f2",
   "metadata": {},
   "source": [
    "<h1>Data Science Tools and Ecosystem</h1>"
   ]
  },
  {
   "cell_type": "markdown",
   "id": "ea015b23-6791-40bc-a112-afa596556563",
   "metadata": {
    "tags": []
   },
   "source": [
    "In this notebook, Data Science Tools and Ecosystem are summarized."
   ]
  },
  {
   "cell_type": "markdown",
   "id": "25872fc5-892c-4f68-9961-7d5fa5dc6762",
   "metadata": {},
   "source": [
    "Some of the popular languages that Data Scientists use are:\n",
    "1. Python\n",
    "2. Scala\n",
    "3. R\n",
    "4. Julia\n",
    "5. C++"
   ]
  },
  {
   "cell_type": "markdown",
   "id": "8f098ca4-79c3-46a2-a2b0-b73f74c0dbd5",
   "metadata": {},
   "source": [
    "**Objective:**\n",
    "- List of languages used in data science\n",
    "- list of libraries used in data science\n",
    "- how to use jupyternotebook\n",
    "- how to use Rstudio and Github"
   ]
  },
  {
   "cell_type": "markdown",
   "id": "06ead89d-db4e-41d6-bb87-635b1f9dbb23",
   "metadata": {
    "tags": []
   },
   "source": [
    "Some of the commonly used libraries used by Data Scientists include:\n",
    "- Numpy\n",
    "- Matplotlib\n",
    "- Seaborn\n",
    "- Pandas\n",
    "- Tensorflow"
   ]
  },
  {
   "cell_type": "markdown",
   "id": "5c27af17-cb5f-4663-a5fa-cde43bd6dfdf",
   "metadata": {
    "tags": []
   },
   "source": [
    "| DATA SCIENCE TOOLS |\n",
    "| ------------------ |\n",
    "| JupyterLab         |\n",
    "| Jupyternotebook    |\n",
    "| R studio           |"
   ]
  },
  {
   "cell_type": "markdown",
   "id": "045b9014-5953-4ddb-9de7-937517b37ff8",
   "metadata": {},
   "source": [
    "<h3>Below are a few examples of evaluating arithmetic expressions in Python:</h3>"
   ]
  },
  {
   "cell_type": "code",
   "execution_count": 4,
   "id": "0b5baffe-479c-4105-a53c-72d8ea3f8d33",
   "metadata": {
    "tags": []
   },
   "outputs": [
    {
     "name": "stdout",
     "output_type": "stream",
     "text": [
      "17\n"
     ]
    }
   ],
   "source": [
    "#This a simple arithmetic expression to mutiply then add integers.\n",
    "result = (3*4)+5\n",
    "print(result)"
   ]
  },
  {
   "cell_type": "code",
   "execution_count": 5,
   "id": "08cd42b4-0a35-49ff-a5f9-78a6a6a6ee84",
   "metadata": {
    "tags": []
   },
   "outputs": [
    {
     "name": "stdout",
     "output_type": "stream",
     "text": [
      "3.3333333333333335\n"
     ]
    }
   ],
   "source": [
    "# This will convert 200 minutes to hours by diving by 60\n",
    "minutes = 200\n",
    "hours = minutes / 60\n",
    "print(hours)"
   ]
  },
  {
   "cell_type": "markdown",
   "id": "ed62b253-a355-4dd6-8dcd-3df36d6b7a2e",
   "metadata": {
    "tags": []
   },
   "source": [
    "<h2> Author:</h2>\n",
    "Malyaj Singh"
   ]
  },
  {
   "cell_type": "code",
   "execution_count": null,
   "id": "7fed1ddc-be2c-481b-ba2f-cc3663765e2c",
   "metadata": {},
   "outputs": [],
   "source": []
  }
 ],
 "metadata": {
  "kernelspec": {
   "display_name": "Python 3 (ipykernel)",
   "language": "python",
   "name": "python3"
  },
  "language_info": {
   "codemirror_mode": {
    "name": "ipython",
    "version": 3
   },
   "file_extension": ".py",
   "mimetype": "text/x-python",
   "name": "python",
   "nbconvert_exporter": "python",
   "pygments_lexer": "ipython3",
   "version": "3.8.16"
  }
 },
 "nbformat": 4,
 "nbformat_minor": 5
}
