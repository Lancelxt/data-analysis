{
 "cells": [
  {
   "cell_type": "code",
   "execution_count": 56,
   "id": "f8420ef7-39b2-45f4-8057-0be9416d2e83",
   "metadata": {
    "tags": []
   },
   "outputs": [],
   "source": [
    "Kanto =[73,67,43]\n",
    "Johto = [91,88,64]\n",
    "hoenn = [87,134,58]\n",
    "sinnoh = [102,43,37]\n",
    "unova = [69,96,70]"
   ]
  },
  {
   "cell_type": "code",
   "execution_count": 57,
   "id": "926d0361-6646-4dfd-afc0-6b2f3bd1751e",
   "metadata": {
    "tags": []
   },
   "outputs": [],
   "source": [
    "w1,w2,w3 = 0.3,0.2,0.5"
   ]
  },
  {
   "cell_type": "code",
   "execution_count": 58,
   "id": "7b27cba4-8067-4405-804e-4a6e6fac862a",
   "metadata": {
    "tags": []
   },
   "outputs": [],
   "source": [
    "weights = [w1,w2,w3]"
   ]
  },
  {
   "cell_type": "code",
   "execution_count": null,
   "id": "9583d9ad-b218-4b4e-96c8-bcfd1ed00d1f",
   "metadata": {
    "tags": []
   },
   "outputs": [],
   "source": []
  },
  {
   "cell_type": "code",
   "execution_count": 59,
   "id": "9cbf3b11-f105-403d-b84b-15d4b0ddb0c0",
   "metadata": {
    "tags": []
   },
   "outputs": [],
   "source": [
    "def crop_yield(region,weights):\n",
    "    result =0\n",
    "    for x,w in zip(region,weights):\n",
    "        result += x*w\n",
    "    return result"
   ]
  },
  {
   "cell_type": "code",
   "execution_count": 60,
   "id": "4eed730f-54c2-4772-8729-6303de0cc237",
   "metadata": {
    "tags": []
   },
   "outputs": [
    {
     "data": {
      "text/plain": [
       "56.8"
      ]
     },
     "execution_count": 60,
     "metadata": {},
     "output_type": "execute_result"
    }
   ],
   "source": [
    "crop_yield(Kanto,weights)"
   ]
  },
  {
   "cell_type": "code",
   "execution_count": 61,
   "id": "7268a159-20c8-4f49-9979-27cb4b89d8a2",
   "metadata": {
    "tags": []
   },
   "outputs": [
    {
     "data": {
      "text/plain": [
       "76.9"
      ]
     },
     "execution_count": 61,
     "metadata": {},
     "output_type": "execute_result"
    }
   ],
   "source": [
    "crop_yield(Johto,weights)"
   ]
  },
  {
   "cell_type": "code",
   "execution_count": 62,
   "id": "cd94770b-bee6-4585-8c90-bf631031b496",
   "metadata": {
    "tags": []
   },
   "outputs": [
    {
     "data": {
      "text/plain": [
       "81.9"
      ]
     },
     "execution_count": 62,
     "metadata": {},
     "output_type": "execute_result"
    }
   ],
   "source": [
    "crop_yield(hoenn,weights)"
   ]
  },
  {
   "cell_type": "code",
   "execution_count": 63,
   "id": "765b009c-cbad-49f6-b81a-7824bfb53d83",
   "metadata": {
    "tags": []
   },
   "outputs": [
    {
     "data": {
      "text/plain": [
       "57.699999999999996"
      ]
     },
     "execution_count": 63,
     "metadata": {},
     "output_type": "execute_result"
    }
   ],
   "source": [
    "crop_yield(sinnoh,weights)"
   ]
  },
  {
   "cell_type": "code",
   "execution_count": 64,
   "id": "e382bcfe-b52c-464d-a876-233828a644d4",
   "metadata": {
    "tags": []
   },
   "outputs": [
    {
     "data": {
      "text/plain": [
       "74.9"
      ]
     },
     "execution_count": 64,
     "metadata": {},
     "output_type": "execute_result"
    }
   ],
   "source": [
    "crop_yield(unova,weights)"
   ]
  },
  {
   "cell_type": "markdown",
   "id": "0efc53fb-a789-4d0f-8dca-91b2833c4b3b",
   "metadata": {},
   "source": [
    "# Numpy"
   ]
  },
  {
   "cell_type": "code",
   "execution_count": 65,
   "id": "f76dd4a6-3683-4b80-ae72-9671440d534d",
   "metadata": {
    "tags": []
   },
   "outputs": [
    {
     "name": "stdout",
     "output_type": "stream",
     "text": [
      "Requirement already satisfied: numpy in ./.var/app/org.jupyter.JupyterLab/config/jupyterlab-desktop/jlab_server/lib/python3.8/site-packages (1.24.2)\n"
     ]
    }
   ],
   "source": [
    "!pip install numpy"
   ]
  },
  {
   "cell_type": "code",
   "execution_count": 66,
   "id": "6fe85999-1614-49df-b8cc-ce8b851e48c7",
   "metadata": {
    "tags": []
   },
   "outputs": [],
   "source": [
    "import numpy as np"
   ]
  },
  {
   "cell_type": "code",
   "execution_count": 67,
   "id": "827124d2-5398-4d13-abd4-92a5f0b2a7ef",
   "metadata": {
    "tags": []
   },
   "outputs": [],
   "source": [
    "Kanto = np.array([73,67,43])"
   ]
  },
  {
   "cell_type": "code",
   "execution_count": 68,
   "id": "f41f6255-76cd-4571-9d6c-2d31970866db",
   "metadata": {
    "tags": []
   },
   "outputs": [
    {
     "data": {
      "text/plain": [
       "array([73, 67, 43])"
      ]
     },
     "execution_count": 68,
     "metadata": {},
     "output_type": "execute_result"
    }
   ],
   "source": [
    "Kanto"
   ]
  },
  {
   "cell_type": "code",
   "execution_count": 69,
   "id": "6704b7c1-0713-4f69-b0f7-ac97655abf8a",
   "metadata": {
    "tags": []
   },
   "outputs": [],
   "source": [
    "weights = np.array([w1,w2,w3])"
   ]
  },
  {
   "cell_type": "code",
   "execution_count": 70,
   "id": "fe0679f7-c58e-4fc0-92e4-90e1c651f5b1",
   "metadata": {
    "tags": []
   },
   "outputs": [
    {
     "data": {
      "text/plain": [
       "numpy.ndarray"
      ]
     },
     "execution_count": 70,
     "metadata": {},
     "output_type": "execute_result"
    }
   ],
   "source": [
    "type (Kanto)"
   ]
  },
  {
   "cell_type": "code",
   "execution_count": 71,
   "id": "bffaf0e9-2177-4106-8874-de5724deb24f",
   "metadata": {
    "tags": []
   },
   "outputs": [
    {
     "data": {
      "text/plain": [
       "numpy.ndarray"
      ]
     },
     "execution_count": 71,
     "metadata": {},
     "output_type": "execute_result"
    }
   ],
   "source": [
    "type (weights)"
   ]
  },
  {
   "cell_type": "code",
   "execution_count": 72,
   "id": "e783e636-22cf-47fb-8ef0-cdebbdca82dc",
   "metadata": {
    "tags": []
   },
   "outputs": [
    {
     "data": {
      "text/plain": [
       "43"
      ]
     },
     "execution_count": 72,
     "metadata": {},
     "output_type": "execute_result"
    }
   ],
   "source": [
    "Kanto[2]"
   ]
  },
  {
   "cell_type": "code",
   "execution_count": 73,
   "id": "29030422-0368-4cb1-aea0-933a8b16c170",
   "metadata": {
    "tags": []
   },
   "outputs": [
    {
     "data": {
      "text/plain": [
       "0.3"
      ]
     },
     "execution_count": 73,
     "metadata": {},
     "output_type": "execute_result"
    }
   ],
   "source": [
    "weights[0]"
   ]
  },
  {
   "cell_type": "code",
   "execution_count": 74,
   "id": "1d6ea77c-42d1-440a-9685-19982fc6a4cf",
   "metadata": {
    "tags": []
   },
   "outputs": [
    {
     "ename": "NameError",
     "evalue": "name 'kanto' is not defined",
     "output_type": "error",
     "traceback": [
      "\u001b[0;31m---------------------------------------------------------------------------\u001b[0m",
      "\u001b[0;31mNameError\u001b[0m                                 Traceback (most recent call last)",
      "Cell \u001b[0;32mIn[74], line 1\u001b[0m\n\u001b[0;32m----> 1\u001b[0m np\u001b[38;5;241m.\u001b[39mdot(\u001b[43mkanto\u001b[49m,weights)\n",
      "\u001b[0;31mNameError\u001b[0m: name 'kanto' is not defined"
     ]
    }
   ],
   "source": [
    "np.dot(kanto,weights)"
   ]
  },
  {
   "cell_type": "code",
   "execution_count": null,
   "id": "b78b9cda-2722-4de8-8fbf-6513a005d2a5",
   "metadata": {
    "tags": []
   },
   "outputs": [],
   "source": [
    "kanto * weights"
   ]
  },
  {
   "cell_type": "code",
   "execution_count": null,
   "id": "36b93003-4078-44cc-b228-71a599f64919",
   "metadata": {
    "tags": []
   },
   "outputs": [],
   "source": [
    "(kanto * weights).sum()"
   ]
  },
  {
   "cell_type": "code",
   "execution_count": null,
   "id": "f24f8ec4-01c8-46a7-baa3-96655c256252",
   "metadata": {
    "tags": []
   },
   "outputs": [],
   "source": [
    "arr1 = list(range(1000000))\n",
    "arr2 = list(range(1000000,2000000))"
   ]
  },
  {
   "cell_type": "code",
   "execution_count": null,
   "id": "3a444ed9-064d-4ce7-96f8-ef6807c11cc9",
   "metadata": {
    "tags": []
   },
   "outputs": [],
   "source": [
    "arr1_np = np.array(arr1)\n",
    "arr2_np = np.array(arr2)\n"
   ]
  },
  {
   "cell_type": "code",
   "execution_count": null,
   "id": "46aacaa8-3acd-4940-bb7e-6d4957bbc15f",
   "metadata": {
    "tags": []
   },
   "outputs": [],
   "source": [
    "%%time \n",
    "result = 0\n",
    "for x1,x2 in zip(arr1,arr2):\n",
    "    result += x1*x2\n",
    "result\n",
    "\n",
    "# {%%time} is used to compute the time taken to process the argument"
   ]
  },
  {
   "cell_type": "code",
   "execution_count": null,
   "id": "0ce818ee-7962-41f7-b387-1ca261c06316",
   "metadata": {
    "tags": []
   },
   "outputs": [],
   "source": [
    "%%time\n",
    "np.dot(arr1_np,arr2_np)"
   ]
  },
  {
   "cell_type": "markdown",
   "id": "5b269741-e1fa-4df8-b1a8-bcd8d9f6d9eb",
   "metadata": {},
   "source": [
    "# Multi_dimentional Numpy arrays"
   ]
  },
  {
   "cell_type": "code",
   "execution_count": null,
   "id": "bfe99ded-ed6b-4ba4-ba12-4be4eecbd562",
   "metadata": {
    "tags": []
   },
   "outputs": [],
   "source": [
    "climate_data = np.array([[73,67,43],\n",
    "                        [91,88,64],\n",
    "                        [87,134,58],\n",
    "                        [102,43,37],\n",
    "                        [69,96,70]])"
   ]
  },
  {
   "cell_type": "code",
   "execution_count": null,
   "id": "5c69d4a7-8528-4b42-9500-13491f4e1744",
   "metadata": {
    "tags": []
   },
   "outputs": [],
   "source": [
    "climate_data"
   ]
  },
  {
   "cell_type": "code",
   "execution_count": null,
   "id": "5399faf4-f21e-4bc0-b9ae-6bf1f08dd6cd",
   "metadata": {
    "tags": []
   },
   "outputs": [],
   "source": [
    "# 2D array (matrix)\n",
    "climate_data.shape"
   ]
  },
  {
   "cell_type": "code",
   "execution_count": null,
   "id": "b694b7da-7280-4adc-bb17-8c70e35030e8",
   "metadata": {
    "tags": []
   },
   "outputs": [],
   "source": [
    "weights"
   ]
  },
  {
   "cell_type": "code",
   "execution_count": null,
   "id": "1552c809-79f4-4619-bf0a-79f971cdd94c",
   "metadata": {
    "tags": []
   },
   "outputs": [],
   "source": [
    "weights.shape\n",
    "# 1D array (vector)"
   ]
  },
  {
   "cell_type": "code",
   "execution_count": null,
   "id": "18283e14-bf6b-4af1-ab87-fde4a403b6ba",
   "metadata": {},
   "outputs": [],
   "source": [
    "# 3D array\n",
    "arr3 = np.array([\n",
    "    [[11,12,13],\n",
    "     [13,14,15]],\n",
    "    \n",
    "    [[15,16,17],\n",
    "     [17,18,19.5]]])"
   ]
  },
  {
   "cell_type": "code",
   "execution_count": null,
   "id": "41bac973-41d2-4179-a719-dd98bcb168eb",
   "metadata": {
    "tags": []
   },
   "outputs": [],
   "source": [
    "arr3.shape"
   ]
  },
  {
   "cell_type": "code",
   "execution_count": null,
   "id": "222ec391-3936-407a-9c87-2a12619f4670",
   "metadata": {},
   "outputs": [],
   "source": [
    "arr3.dtype"
   ]
  },
  {
   "cell_type": "code",
   "execution_count": null,
   "id": "f99ad19a-36c6-4858-98e7-2b9abcb948b7",
   "metadata": {
    "tags": []
   },
   "outputs": [],
   "source": [
    "weights.dtype\n"
   ]
  },
  {
   "cell_type": "code",
   "execution_count": null,
   "id": "4efa5e1a-4b0a-4979-bace-5d1ea540e22d",
   "metadata": {
    "tags": []
   },
   "outputs": [],
   "source": [
    "climate_data.dtype"
   ]
  },
  {
   "cell_type": "code",
   "execution_count": null,
   "id": "20c6e29c-46ef-4a98-a815-9adb55d90d00",
   "metadata": {
    "tags": []
   },
   "outputs": [],
   "source": [
    "climate_data"
   ]
  },
  {
   "cell_type": "code",
   "execution_count": null,
   "id": "619b773b-ebc5-4fa7-85ad-1335dc3c19bb",
   "metadata": {
    "tags": []
   },
   "outputs": [],
   "source": [
    "np.dot(climate_data,weights)"
   ]
  },
  {
   "cell_type": "code",
   "execution_count": null,
   "id": "e5aa732a-558e-4e86-97c6-da72baeac2b4",
   "metadata": {
    "tags": []
   },
   "outputs": [],
   "source": [
    "np.matmul(climate_data,weights)"
   ]
  },
  {
   "cell_type": "code",
   "execution_count": null,
   "id": "c5eb57cf-99fa-4dee-962e-a148bcd3a43b",
   "metadata": {
    "tags": []
   },
   "outputs": [],
   "source": [
    "climate_data @ weights"
   ]
  },
  {
   "cell_type": "markdown",
   "id": "bccaf620-3980-480e-bf72-1307cbc999e6",
   "metadata": {},
   "source": [
    "# working with csv"
   ]
  },
  {
   "cell_type": "code",
   "execution_count": null,
   "id": "6b91b96b-2dbd-4625-b52e-c94a2034a087",
   "metadata": {
    "tags": []
   },
   "outputs": [],
   "source": [
    "import urllib.request\n",
    "\n",
    "urllib.request.urlretrieve(\n",
    "    'https://gist.github.com/BirajCoder/a4ffcb76fd6fb221d76ac2ee2b8584e9/raw/4054f90adfd361b7aa4255e99c2e874664094cea/climate.csv', \n",
    "    'climate.txt')"
   ]
  },
  {
   "cell_type": "code",
   "execution_count": null,
   "id": "a5b377d1-746a-4fab-bc0b-96fa2ed14fec",
   "metadata": {
    "tags": []
   },
   "outputs": [],
   "source": [
    "climate_data = np.genfromtxt('climate.txt', delimiter =',' , skip_header =1 )"
   ]
  },
  {
   "cell_type": "code",
   "execution_count": null,
   "id": "9676f786-c852-49d1-ac21-04b304b9ca95",
   "metadata": {
    "tags": []
   },
   "outputs": [],
   "source": [
    "climate_data"
   ]
  },
  {
   "cell_type": "code",
   "execution_count": null,
   "id": "ef0c4175-4a91-4bed-86b7-32f3343d310d",
   "metadata": {
    "tags": []
   },
   "outputs": [],
   "source": [
    "climate_data.shape"
   ]
  },
  {
   "cell_type": "code",
   "execution_count": null,
   "id": "66ca33f2-8691-4986-8222-3622dd68371c",
   "metadata": {
    "tags": []
   },
   "outputs": [],
   "source": [
    "weights = np.array([0.3,0.2,0.5])"
   ]
  },
  {
   "cell_type": "code",
   "execution_count": null,
   "id": "74be507c-1b6a-4095-8897-43b4bd8cc11f",
   "metadata": {
    "tags": []
   },
   "outputs": [],
   "source": [
    "yields = climate_data @ weights "
   ]
  },
  {
   "cell_type": "code",
   "execution_count": null,
   "id": "216e1f32-d0fb-4962-9027-3b2a5d1c9603",
   "metadata": {
    "tags": []
   },
   "outputs": [],
   "source": [
    "yields"
   ]
  },
  {
   "cell_type": "code",
   "execution_count": null,
   "id": "256ef5b7-58b7-49dd-b962-92ccf3b2345f",
   "metadata": {
    "tags": []
   },
   "outputs": [],
   "source": [
    "yields.shape"
   ]
  },
  {
   "cell_type": "code",
   "execution_count": null,
   "id": "ba96197c-f409-4ebd-af26-e661b0ebfe1d",
   "metadata": {
    "tags": []
   },
   "outputs": [],
   "source": [
    "climate_results = np.concatenate((climate_data,yields.reshape(10000,1)), axis =1)"
   ]
  },
  {
   "cell_type": "code",
   "execution_count": null,
   "id": "9872267c-9d64-430f-bfcb-14c7d4c5f156",
   "metadata": {
    "tags": []
   },
   "outputs": [],
   "source": [
    "climate_results"
   ]
  },
  {
   "cell_type": "code",
   "execution_count": null,
   "id": "6265d5a0-cb3e-4ada-bb70-ae8c2db46367",
   "metadata": {
    "tags": []
   },
   "outputs": [],
   "source": [
    "np.savetxt('climate_results.txt',\n",
    "          climate_results,\n",
    "          fmt = '%.2f',\n",
    "          header = 'temperature, rainfall,humidity,yield_apples',\n",
    "          comments = '')"
   ]
  },
  {
   "cell_type": "code",
   "execution_count": null,
   "id": "a70d847a-a7d4-4c3b-835b-34955e2e1b89",
   "metadata": {
    "tags": []
   },
   "outputs": [],
   "source": []
  },
  {
   "cell_type": "markdown",
   "id": "746be928-ce96-40e2-9aa4-af1f511f240e",
   "metadata": {},
   "source": [
    "# arithmetic operations "
   ]
  },
  {
   "cell_type": "code",
   "execution_count": null,
   "id": "701ba8e5-d44b-47df-9609-36b21e82f492",
   "metadata": {},
   "outputs": [],
   "source": []
  },
  {
   "cell_type": "code",
   "execution_count": null,
   "id": "3ea77d03-8af4-4da2-ac01-af23e3de6556",
   "metadata": {
    "tags": []
   },
   "outputs": [],
   "source": [
    "arr2 = np.array([[1,2,3,4],\n",
    "                 [5,6,7,8],\n",
    "                 [9,1,2,3]]\n",
    ")"
   ]
  },
  {
   "cell_type": "code",
   "execution_count": null,
   "id": "6f92aee9-925c-447b-b630-2a534f6050d2",
   "metadata": {
    "tags": []
   },
   "outputs": [],
   "source": [
    "arr3 = np.array([[11,12,13,14],\n",
    "                 [15,16,17,18],\n",
    "                 [19,11,12,13]\n",
    "])"
   ]
  },
  {
   "cell_type": "code",
   "execution_count": null,
   "id": "96dcdebb-c315-4c77-8bc5-8845ad7d215f",
   "metadata": {
    "tags": []
   },
   "outputs": [],
   "source": [
    "arr2 + arr3"
   ]
  },
  {
   "cell_type": "code",
   "execution_count": null,
   "id": "423eb6bf-ac84-4183-a0d3-2aadfc8533b7",
   "metadata": {
    "tags": []
   },
   "outputs": [],
   "source": [
    "arr2 +3"
   ]
  },
  {
   "cell_type": "code",
   "execution_count": null,
   "id": "865c4be7-56d0-4e0c-9e94-ed680e931b80",
   "metadata": {
    "tags": []
   },
   "outputs": [],
   "source": [
    "arr3- arr2"
   ]
  },
  {
   "cell_type": "code",
   "execution_count": null,
   "id": "26a6c0b2-b232-4a64-96fd-e6d9db3071e0",
   "metadata": {
    "tags": []
   },
   "outputs": [],
   "source": [
    "arr2 / 2"
   ]
  },
  {
   "cell_type": "code",
   "execution_count": null,
   "id": "ba9bd5e0-a653-4aa1-a494-dc040798d722",
   "metadata": {
    "tags": []
   },
   "outputs": [],
   "source": [
    "arr2 * arr3"
   ]
  },
  {
   "cell_type": "code",
   "execution_count": null,
   "id": "9ac1b0d4-9c7a-4619-8d88-400b92a08873",
   "metadata": {
    "tags": []
   },
   "outputs": [],
   "source": [
    "arr2 % 4"
   ]
  },
  {
   "cell_type": "code",
   "execution_count": null,
   "id": "a05aa5f9-4343-4ad6-b07d-f14f217a7590",
   "metadata": {
    "tags": []
   },
   "outputs": [],
   "source": [
    "arr2 = np.array([[1,2,3,4],\n",
    "                 [5,6,7,8],\n",
    "                 [9,1,2,3]\n",
    "])"
   ]
  },
  {
   "cell_type": "code",
   "execution_count": null,
   "id": "57083a06-9298-4864-9f24-56946a990f63",
   "metadata": {
    "tags": []
   },
   "outputs": [],
   "source": [
    "arr2.shape"
   ]
  },
  {
   "cell_type": "code",
   "execution_count": null,
   "id": "036650be-d900-4b9e-a456-0c84ca1057bb",
   "metadata": {
    "tags": []
   },
   "outputs": [],
   "source": [
    "arr4 = np.array([4,5,6,7])"
   ]
  },
  {
   "cell_type": "code",
   "execution_count": null,
   "id": "f0c1e894-82fc-4441-a88c-32bdab14a5c6",
   "metadata": {
    "tags": []
   },
   "outputs": [],
   "source": [
    "arr4.shape"
   ]
  },
  {
   "cell_type": "code",
   "execution_count": null,
   "id": "ea19acf1-199d-4d5f-a37d-908b61e4d6b9",
   "metadata": {
    "tags": []
   },
   "outputs": [],
   "source": [
    "arr2 + arr4"
   ]
  },
  {
   "cell_type": "code",
   "execution_count": null,
   "id": "e26a207d-e563-401a-bb0b-37913532bffd",
   "metadata": {
    "tags": []
   },
   "outputs": [],
   "source": [
    "arr5 = np.array([7,8])"
   ]
  },
  {
   "cell_type": "code",
   "execution_count": null,
   "id": "43c2deec-0c41-43a8-b063-fcd0bbd4ac59",
   "metadata": {
    "tags": []
   },
   "outputs": [],
   "source": [
    "arr5.shape"
   ]
  },
  {
   "cell_type": "code",
   "execution_count": null,
   "id": "49f0515e-2ee9-49a2-b9c7-ae3f8a0243a5",
   "metadata": {
    "tags": []
   },
   "outputs": [],
   "source": [
    "arr2 + arr5"
   ]
  },
  {
   "cell_type": "code",
   "execution_count": null,
   "id": "76898db3-b8bf-4d2e-884c-680faa53e136",
   "metadata": {
    "tags": []
   },
   "outputs": [],
   "source": [
    "arr1 = np.array([[1,2,3,] , [3,4,5]])\n",
    "arr2 = np.array([[2,2,3], [1,2,5]])"
   ]
  },
  {
   "cell_type": "code",
   "execution_count": null,
   "id": "d2cb76d0-92d3-4a38-975a-94a9b992e464",
   "metadata": {
    "tags": []
   },
   "outputs": [],
   "source": [
    "(arr1 == arr2).dtype"
   ]
  },
  {
   "cell_type": "code",
   "execution_count": null,
   "id": "968ba121-6ccf-43ff-9ece-59f7813b876f",
   "metadata": {
    "tags": []
   },
   "outputs": [],
   "source": [
    "arr1 != arr2"
   ]
  },
  {
   "cell_type": "code",
   "execution_count": null,
   "id": "c07a3fb7-5669-49d0-b925-12968d9b6305",
   "metadata": {
    "tags": []
   },
   "outputs": [],
   "source": [
    "arr1 >= arr2"
   ]
  },
  {
   "cell_type": "code",
   "execution_count": null,
   "id": "338f32fe-e07a-4330-87ff-968225a6030b",
   "metadata": {
    "tags": []
   },
   "outputs": [],
   "source": [
    "arr1 < arr2"
   ]
  },
  {
   "cell_type": "code",
   "execution_count": null,
   "id": "db3c65e6-ed54-4cf4-ba65-6b254cd360ad",
   "metadata": {
    "tags": []
   },
   "outputs": [],
   "source": [
    "(arr1==arr2).sum()"
   ]
  },
  {
   "cell_type": "markdown",
   "id": "e7738235-efe0-4951-8f3e-9888cf35f564",
   "metadata": {
    "tags": []
   },
   "source": [
    "# Array Indexing and Slicing"
   ]
  },
  {
   "cell_type": "code",
   "execution_count": 75,
   "id": "171c7478-d26c-4402-a0df-0978d0f8b1fa",
   "metadata": {
    "tags": []
   },
   "outputs": [],
   "source": [
    "arr3 = np.array([\n",
    "    [[11, 12, 13, 14], \n",
    "     [13, 14, 15, 19]], \n",
    "    \n",
    "    [[15, 16, 17, 21], \n",
    "     [63, 92, 36, 18]], \n",
    "    \n",
    "    [[98, 32, 81, 23],      \n",
    "     [17, 18, 19.5, 43]]])"
   ]
  },
  {
   "cell_type": "code",
   "execution_count": 76,
   "id": "5f710b8b-1a67-40fc-a630-a2292f998a72",
   "metadata": {
    "tags": []
   },
   "outputs": [
    {
     "data": {
      "text/plain": [
       "(3, 2, 4)"
      ]
     },
     "execution_count": 76,
     "metadata": {},
     "output_type": "execute_result"
    }
   ],
   "source": [
    "arr3.shape"
   ]
  },
  {
   "cell_type": "code",
   "execution_count": 77,
   "id": "680296c7-63f8-4a6e-bfff-db25b3f88359",
   "metadata": {
    "tags": []
   },
   "outputs": [
    {
     "data": {
      "text/plain": [
       "36.0"
      ]
     },
     "execution_count": 77,
     "metadata": {},
     "output_type": "execute_result"
    }
   ],
   "source": [
    "arr3[1,1,2]"
   ]
  },
  {
   "cell_type": "code",
   "execution_count": 78,
   "id": "fef0f7dd-0490-4d3f-b66e-6a3c21e69dd3",
   "metadata": {
    "tags": []
   },
   "outputs": [
    {
     "data": {
      "text/plain": [
       "array([[[15., 16.]],\n",
       "\n",
       "       [[98., 32.]]])"
      ]
     },
     "execution_count": 78,
     "metadata": {},
     "output_type": "execute_result"
    }
   ],
   "source": [
    "arr3[1:,0:1,:2]"
   ]
  },
  {
   "cell_type": "code",
   "execution_count": 79,
   "id": "b899065b-70ac-42e7-b2b6-579ede80a287",
   "metadata": {
    "tags": []
   },
   "outputs": [
    {
     "data": {
      "text/plain": [
       "array([[[15. , 16. , 17. , 21. ],\n",
       "        [63. , 92. , 36. , 18. ]],\n",
       "\n",
       "       [[98. , 32. , 81. , 23. ],\n",
       "        [17. , 18. , 19.5, 43. ]]])"
      ]
     },
     "execution_count": 79,
     "metadata": {},
     "output_type": "execute_result"
    }
   ],
   "source": [
    "arr3[1:]"
   ]
  },
  {
   "cell_type": "code",
   "execution_count": 81,
   "id": "97beb265-51eb-45b2-a7d3-86c0f9f3cc36",
   "metadata": {
    "tags": []
   },
   "outputs": [
    {
     "data": {
      "text/plain": [
       "array([18., 43.])"
      ]
     },
     "execution_count": 81,
     "metadata": {},
     "output_type": "execute_result"
    }
   ],
   "source": [
    "# Mixing indices and ranges\n",
    "arr3[1:, 1, 3]"
   ]
  },
  {
   "cell_type": "code",
   "execution_count": 82,
   "id": "7020e343-ca0a-4850-920e-ce37dfd8e103",
   "metadata": {
    "tags": []
   },
   "outputs": [
    {
     "data": {
      "text/plain": [
       "array([[63. , 92. , 36. ],\n",
       "       [17. , 18. , 19.5]])"
      ]
     },
     "execution_count": 82,
     "metadata": {},
     "output_type": "execute_result"
    }
   ],
   "source": [
    "# Mixing indices and ranges\n",
    "arr3[1:, 1, :3]"
   ]
  },
  {
   "cell_type": "code",
   "execution_count": 83,
   "id": "d70067ec-8389-4cd0-a4e0-7570e9752a5b",
   "metadata": {
    "tags": []
   },
   "outputs": [
    {
     "data": {
      "text/plain": [
       "array([[15., 16., 17., 21.],\n",
       "       [63., 92., 36., 18.]])"
      ]
     },
     "execution_count": 83,
     "metadata": {},
     "output_type": "execute_result"
    }
   ],
   "source": [
    "# Using fewer indices\n",
    "arr3[1]"
   ]
  },
  {
   "cell_type": "code",
   "execution_count": 84,
   "id": "59769c31-d592-43ee-8a1b-8792ee87fef6",
   "metadata": {
    "tags": []
   },
   "outputs": [
    {
     "data": {
      "text/plain": [
       "array([[13., 14., 15., 19.],\n",
       "       [63., 92., 36., 18.]])"
      ]
     },
     "execution_count": 84,
     "metadata": {},
     "output_type": "execute_result"
    }
   ],
   "source": [
    "# Using fewer indices\n",
    "arr3[:2, 1]"
   ]
  },
  {
   "cell_type": "code",
   "execution_count": 85,
   "id": "f0f654eb-166f-4fb1-a5c0-65649d33dbd9",
   "metadata": {
    "tags": []
   },
   "outputs": [
    {
     "ename": "IndexError",
     "evalue": "too many indices for array: array is 3-dimensional, but 4 were indexed",
     "output_type": "error",
     "traceback": [
      "\u001b[0;31m---------------------------------------------------------------------------\u001b[0m",
      "\u001b[0;31mIndexError\u001b[0m                                Traceback (most recent call last)",
      "Cell \u001b[0;32mIn[85], line 2\u001b[0m\n\u001b[1;32m      1\u001b[0m \u001b[38;5;66;03m# Using too many indices\u001b[39;00m\n\u001b[0;32m----> 2\u001b[0m \u001b[43marr3\u001b[49m\u001b[43m[\u001b[49m\u001b[38;5;241;43m1\u001b[39;49m\u001b[43m,\u001b[49m\u001b[38;5;241;43m3\u001b[39;49m\u001b[43m,\u001b[49m\u001b[38;5;241;43m2\u001b[39;49m\u001b[43m,\u001b[49m\u001b[38;5;241;43m1\u001b[39;49m\u001b[43m]\u001b[49m\n",
      "\u001b[0;31mIndexError\u001b[0m: too many indices for array: array is 3-dimensional, but 4 were indexed"
     ]
    }
   ],
   "source": [
    "# Using too many indices\n",
    "arr3[1,3,2,1]"
   ]
  },
  {
   "cell_type": "markdown",
   "id": "23bed98c-595f-4401-b89d-95f8329c2399",
   "metadata": {
    "tags": []
   },
   "source": [
    "## Other ways of creating Numpy arrays\n",
    "\n",
    "Numpy also provides some handy functions to create arrays of desired shapes with fixed or random values. Check out the [official documentation](https://numpy.org/doc/stable/reference/routines.array-creation.html) or use the `help` function to learn more."
   ]
  },
  {
   "cell_type": "code",
   "execution_count": 87,
   "id": "2028e98c-97f7-438a-b57b-bc370de9442a",
   "metadata": {
    "tags": []
   },
   "outputs": [
    {
     "data": {
      "text/plain": [
       "array([[0., 0.],\n",
       "       [0., 0.],\n",
       "       [0., 0.]])"
      ]
     },
     "execution_count": 87,
     "metadata": {},
     "output_type": "execute_result"
    }
   ],
   "source": [
    "# All zeros\n",
    "np.zeros((3, 2))"
   ]
  },
  {
   "cell_type": "code",
   "execution_count": 88,
   "id": "30345761-5e21-47e7-8db7-9f546559c3ae",
   "metadata": {
    "tags": []
   },
   "outputs": [
    {
     "data": {
      "text/plain": [
       "array([[[1., 1., 1.],\n",
       "        [1., 1., 1.]],\n",
       "\n",
       "       [[1., 1., 1.],\n",
       "        [1., 1., 1.]]])"
      ]
     },
     "execution_count": 88,
     "metadata": {},
     "output_type": "execute_result"
    }
   ],
   "source": [
    "# All ones\n",
    "np.ones([2, 2, 3])"
   ]
  },
  {
   "cell_type": "code",
   "execution_count": 89,
   "id": "2308d0de-b6ec-4b30-b141-7f04d319b96a",
   "metadata": {
    "tags": []
   },
   "outputs": [
    {
     "data": {
      "text/plain": [
       "array([[1., 0., 0.],\n",
       "       [0., 1., 0.],\n",
       "       [0., 0., 1.]])"
      ]
     },
     "execution_count": 89,
     "metadata": {},
     "output_type": "execute_result"
    }
   ],
   "source": [
    "# Identity matrix\n",
    "np.eye(3)"
   ]
  },
  {
   "cell_type": "code",
   "execution_count": 90,
   "id": "2271e7dd-39a4-45d5-9e6b-331f9419a1f1",
   "metadata": {
    "tags": []
   },
   "outputs": [
    {
     "data": {
      "text/plain": [
       "array([0.74176016, 0.17229278, 0.95977986, 0.1649231 , 0.39827904])"
      ]
     },
     "execution_count": 90,
     "metadata": {},
     "output_type": "execute_result"
    }
   ],
   "source": [
    "# Random vector\n",
    "np.random.rand(5)"
   ]
  },
  {
   "cell_type": "code",
   "execution_count": 91,
   "id": "381b3c3a-3bc3-4157-b054-e14d8385616e",
   "metadata": {
    "tags": []
   },
   "outputs": [
    {
     "data": {
      "text/plain": [
       "array([[ 0.4429792 , -0.69516272, -0.5764653 ],\n",
       "       [ 0.13736663, -1.21872884,  0.01280805]])"
      ]
     },
     "execution_count": 91,
     "metadata": {},
     "output_type": "execute_result"
    }
   ],
   "source": [
    "# Random matrix\n",
    "np.random.randn(2, 3) # rand vs. randn - what's the difference?"
   ]
  },
  {
   "cell_type": "code",
   "execution_count": 92,
   "id": "b50ce744-bd59-4cc9-9c27-6f04421602b9",
   "metadata": {
    "tags": []
   },
   "outputs": [
    {
     "data": {
      "text/plain": [
       "array([[42, 42, 42],\n",
       "       [42, 42, 42]])"
      ]
     },
     "execution_count": 92,
     "metadata": {},
     "output_type": "execute_result"
    }
   ],
   "source": [
    "# Fixed value\n",
    "np.full([2, 3], 42)"
   ]
  },
  {
   "cell_type": "code",
   "execution_count": 93,
   "id": "75f28f14-7251-42fd-8692-f5dd2a136941",
   "metadata": {
    "tags": []
   },
   "outputs": [
    {
     "data": {
      "text/plain": [
       "array([10, 13, 16, 19, 22, 25, 28, 31, 34, 37, 40, 43, 46, 49, 52, 55, 58,\n",
       "       61, 64, 67, 70, 73, 76, 79, 82, 85, 88])"
      ]
     },
     "execution_count": 93,
     "metadata": {},
     "output_type": "execute_result"
    }
   ],
   "source": [
    "# Range with start, end and step\n",
    "np.arange(10, 90, 3)"
   ]
  },
  {
   "cell_type": "code",
   "execution_count": 94,
   "id": "ccc9ef8e-6619-4e4a-a8c6-c22dd5f31410",
   "metadata": {
    "tags": []
   },
   "outputs": [
    {
     "data": {
      "text/plain": [
       "array([ 3.,  6.,  9., 12., 15., 18., 21., 24., 27.])"
      ]
     },
     "execution_count": 94,
     "metadata": {},
     "output_type": "execute_result"
    }
   ],
   "source": [
    "# Equally spaced numbers in a range\n",
    "np.linspace(3, 27, 9)"
   ]
  },
  {
   "cell_type": "code",
   "execution_count": null,
   "id": "6d13549f-6dc5-46ee-961f-88bc4f0fdc74",
   "metadata": {},
   "outputs": [],
   "source": []
  }
 ],
 "metadata": {
  "kernelspec": {
   "display_name": "Python 3 (ipykernel)",
   "language": "python",
   "name": "python3"
  },
  "language_info": {
   "codemirror_mode": {
    "name": "ipython",
    "version": 3
   },
   "file_extension": ".py",
   "mimetype": "text/x-python",
   "name": "python",
   "nbconvert_exporter": "python",
   "pygments_lexer": "ipython3",
   "version": "3.8.16"
  }
 },
 "nbformat": 4,
 "nbformat_minor": 5
}
