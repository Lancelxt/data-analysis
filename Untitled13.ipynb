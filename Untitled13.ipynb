{
 "cells": [
  {
   "cell_type": "code",
   "execution_count": 20,
   "id": "91583a8a-b949-42ed-a2d6-5724ce21968b",
   "metadata": {
    "tags": []
   },
   "outputs": [],
   "source": [
    "import math"
   ]
  },
  {
   "cell_type": "code",
   "execution_count": 2,
   "id": "109ede2b-8247-4ba9-ad1a-cd14c64203f6",
   "metadata": {
    "tags": []
   },
   "outputs": [],
   "source": [
    "Paris=[200,20,200,'Paris']\n",
    "London = [250,30,120,'London']\n",
    "Dubai = [370,15,80,'Dubai']\n",
    "Mumbai = [450,10,70,'Mumbai']\n",
    "Cities = [Paris,London,Dubai,Mumbai]"
   ]
  },
  {
   "cell_type": "code",
   "execution_count": 7,
   "id": "cfb5a97a-ca2a-47f3-af16-c24a9f42c59b",
   "metadata": {
    "tags": []
   },
   "outputs": [],
   "source": [
    "def cost_of_trip(flight,hotel_cost,car_rent,num_of_days=0):\n",
    "    return flight+(hotel_cost*num_of_days)+(car_rent*math.ceil(num_of_days/7))"
   ]
  },
  {
   "cell_type": "code",
   "execution_count": 27,
   "id": "e629cca7-f2a6-4007-94a1-bdb5e3d79ce9",
   "metadata": {
    "tags": []
   },
   "outputs": [],
   "source": [
    "def days_to_visit(days):\n",
    "    costs=[]\n",
    "    for city in Cities:\n",
    "        cost=cost_of_trip(city[0],city[1],city[2],days)\n",
    "        costs.append((cost,city[3]))\n",
    "    min_cost = min(costs)\n",
    "    return min_cost"
   ]
  },
  {
   "cell_type": "code",
   "execution_count": 28,
   "id": "f2ac05d9-7fe3-4d73-838e-f594bc81cf13",
   "metadata": {
    "tags": []
   },
   "outputs": [
    {
     "data": {
      "text/plain": [
       "(480, 'Mumbai')"
      ]
     },
     "execution_count": 28,
     "metadata": {},
     "output_type": "execute_result"
    }
   ],
   "source": [
    "days_to_visit(9)"
   ]
  },
  {
   "cell_type": "code",
   "execution_count": null,
   "id": "0ec8cefc-c0ee-4a73-a915-4066971e968c",
   "metadata": {},
   "outputs": [],
   "source": []
  }
 ],
 "metadata": {
  "kernelspec": {
   "display_name": "Python 3 (ipykernel)",
   "language": "python",
   "name": "python3"
  },
  "language_info": {
   "codemirror_mode": {
    "name": "ipython",
    "version": 3
   },
   "file_extension": ".py",
   "mimetype": "text/x-python",
   "name": "python",
   "nbconvert_exporter": "python",
   "pygments_lexer": "ipython3",
   "version": "3.8.16"
  }
 },
 "nbformat": 4,
 "nbformat_minor": 5
}
