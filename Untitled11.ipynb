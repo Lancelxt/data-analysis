{
 "cells": [
  {
   "cell_type": "code",
   "execution_count": 2,
   "id": "1a2c8266-3121-4593-86f9-876a8c1fc168",
   "metadata": {
    "tags": []
   },
   "outputs": [],
   "source": [
    "number = 49\n",
    "if number % 2 == 0 :\n",
    "    print('This number is even')\n",
    "    print('the given number {} is even'.format(number))"
   ]
  },
  {
   "cell_type": "code",
   "execution_count": 3,
   "id": "566f5e66-8250-4f92-bde7-179636c35917",
   "metadata": {},
   "outputs": [
    {
     "name": "stdout",
     "output_type": "stream",
     "text": [
      "Hello World\n"
     ]
    }
   ],
   "source": [
    "print(\"Hello World\")"
   ]
  },
  {
   "cell_type": "code",
   "execution_count": 4,
   "id": "8f8ac51c-6fc3-45b2-9529-2911bbbbb08a",
   "metadata": {
    "tags": []
   },
   "outputs": [
    {
     "name": "stdout",
     "output_type": "stream",
     "text": [
      "All check failed\n"
     ]
    }
   ],
   "source": [
    "if number % 2==0 :\n",
    "    print('even')\n",
    "elif number % 3 ==0:\n",
    "    print('three')\n",
    "elif number % 5 == 0:\n",
    "    print('five')\n",
    "else :\n",
    "    print('All check failed')"
   ]
  },
  {
   "cell_type": "code",
   "execution_count": null,
   "id": "c81a4579",
   "metadata": {},
   "outputs": [],
   "source": []
  },
  {
   "cell_type": "code",
   "execution_count": null,
   "id": "6e0b0a21",
   "metadata": {},
   "outputs": [],
   "source": []
  },
  {
   "cell_type": "code",
   "execution_count": null,
   "id": "618e508a-16fc-4bf0-8017-46a6e7f59523",
   "metadata": {},
   "outputs": [],
   "source": [
    "\n"
   ]
  },
  {
   "cell_type": "code",
   "execution_count": null,
   "id": "0b892515",
   "metadata": {},
   "outputs": [],
   "source": []
  },
  {
   "cell_type": "code",
   "execution_count": null,
   "id": "4e362e57",
   "metadata": {},
   "outputs": [],
   "source": [
    "a"
   ]
  }
 ],
 "metadata": {
  "kernelspec": {
   "display_name": "Python 3 (ipykernel)",
   "language": "python",
   "name": "python3"
  },
  "language_info": {
   "codemirror_mode": {
    "name": "ipython",
    "version": 3
   },
   "file_extension": ".py",
   "mimetype": "text/x-python",
   "name": "python",
   "nbconvert_exporter": "python",
   "pygments_lexer": "ipython3",
   "version": "3.9.16"
  }
 },
 "nbformat": 4,
 "nbformat_minor": 5
}
